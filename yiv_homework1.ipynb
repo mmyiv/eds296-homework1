{
 "cells": [
  {
   "cell_type": "markdown",
   "id": "90a1e7b5-d510-4582-ab78-f3e88be68423",
   "metadata": {},
   "source": [
    "# Homework 1: Time Series Analysis\n",
    "## EDS 296\n",
    "\n",
    "Michelle Yiv"
   ]
  },
  {
   "cell_type": "markdown",
   "id": "aee16f09-9710-4da0-b3af-6b74b464a353",
   "metadata": {
    "tags": []
   },
   "source": [
    "## Setup\n",
    "\n",
    "### Load libraries\n"
   ]
  },
  {
   "cell_type": "code",
   "execution_count": null,
   "id": "9a51ece4-89a8-4f4c-8082-32434b63c362",
   "metadata": {},
   "outputs": [],
   "source": []
  },
  {
   "cell_type": "markdown",
   "id": "f5237840-dd16-481f-94da-a932214da3e6",
   "metadata": {
    "tags": []
   },
   "source": [
    "## Locate data\n",
    "\n",
    "- Monthly data for a historical simulation for any two CMIP6 models\n",
    "- Choose any climate variable"
   ]
  },
  {
   "cell_type": "code",
   "execution_count": null,
   "id": "820a9da0-75e5-4aea-becf-9f4008cf7690",
   "metadata": {},
   "outputs": [],
   "source": []
  },
  {
   "cell_type": "markdown",
   "id": "f63af09f-8e2f-4981-b70a-8157b15b6e7a",
   "metadata": {},
   "source": [
    "## Download data from historical simulation\n",
    "\n",
    "- Along with corresponding future projection information for two different future emissions\n",
    "scenarios, for each model"
   ]
  },
  {
   "cell_type": "code",
   "execution_count": null,
   "id": "aba58c31-20ab-4285-ac30-e16abfab8255",
   "metadata": {},
   "outputs": [],
   "source": []
  },
  {
   "cell_type": "markdown",
   "id": "5200821c-f6be-44db-8121-82076a08ea46",
   "metadata": {},
   "source": [
    "## Choose a region of interest"
   ]
  },
  {
   "cell_type": "markdown",
   "id": "9d168f8f-b9d8-437b-b0f8-d0a40f65f929",
   "metadata": {},
   "source": [
    "Climate:\n",
    "Climate change impacts:"
   ]
  },
  {
   "cell_type": "markdown",
   "id": "a3287d2e-2d36-4882-9b9e-f5a65a9cce48",
   "metadata": {},
   "source": [
    "### Read in surface air temperature datasets\n",
    "- Then create annually averaged, area-weighted, regionally averaged time series for your region of interest"
   ]
  },
  {
   "cell_type": "markdown",
   "id": "98adcdfe-b7ce-443f-bc21-a56b6b27bf6f",
   "metadata": {},
   "source": [
    "## Plot regional time series\n",
    "Fit a trend line for two different time periods\n",
    "- historical (1850-2015)\n",
    "- historical plus future (1850-2100)\n",
    "\n",
    "Over both of those time periods, is the temperature of your region changing, and is that\n",
    "change statistically significant?"
   ]
  },
  {
   "cell_type": "code",
   "execution_count": null,
   "id": "5a99ace2-f342-4875-8781-23144761b877",
   "metadata": {},
   "outputs": [],
   "source": []
  },
  {
   "cell_type": "markdown",
   "id": "3d681c6f-0a01-4861-ab41-6d0008378568",
   "metadata": {},
   "source": [
    "Write 1-2 paragraphs in markdown text describing the results of your plot, and what you think they might mean for humans or ecosystems located in your study region"
   ]
  }
 ],
 "metadata": {
  "kernelspec": {
   "display_name": "Anaconda 3 (EDS296)",
   "language": "python",
   "name": "eds196-stevenson"
  },
  "language_info": {
   "codemirror_mode": {
    "name": "ipython",
    "version": 3
   },
   "file_extension": ".py",
   "mimetype": "text/x-python",
   "name": "python",
   "nbconvert_exporter": "python",
   "pygments_lexer": "ipython3",
   "version": "3.8.18"
  }
 },
 "nbformat": 4,
 "nbformat_minor": 5
}
